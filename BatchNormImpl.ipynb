{
  "nbformat": 4,
  "nbformat_minor": 0,
  "metadata": {
    "colab": {
      "name": "BatchNormImpl.ipynb",
      "provenance": [],
      "collapsed_sections": []
    },
    "kernelspec": {
      "name": "python3",
      "display_name": "Python 3"
    }
  },
  "cells": [
    {
      "cell_type": "code",
      "metadata": {
        "id": "fR53dWW0LWWh",
        "colab_type": "code",
        "colab": {}
      },
      "source": [
        "import numpy as np\n",
        "import torch\n",
        "import torch.nn as nn"
      ],
      "execution_count": 0,
      "outputs": []
    },
    {
      "cell_type": "code",
      "metadata": {
        "id": "5Bwi_4XNLhoF",
        "colab_type": "code",
        "colab": {}
      },
      "source": [
        "def custom_batch_norm1d(input_tensor, eps):\n",
        "    normed_tensor = ((input_tensor - input_tensor.mean(dim=0)) / \n",
        "                     torch.sqrt(input_tensor.var(dim=0, unbiased=False) + eps))\n",
        "    return normed_tensor\n",
        "\n",
        "input_tensor = torch.Tensor([[0., 0, 1, 0, 2], [0, 1, 1, 0, 10]])\n",
        "batch_norm = nn.BatchNorm1d(input_tensor.shape[1], affine=False)"
      ],
      "execution_count": 0,
      "outputs": []
    },
    {
      "cell_type": "code",
      "metadata": {
        "id": "Kvz8xf79MSBl",
        "colab_type": "code",
        "outputId": "dc28d059-1d08-4794-b73c-b2f4a34e7a5d",
        "colab": {
          "base_uri": "https://localhost:8080/",
          "height": 33
        }
      },
      "source": [
        "all_correct = True\n",
        "for eps_power in range(10):\n",
        "    eps = np.power(10., -eps_power)\n",
        "    batch_norm.eps = eps\n",
        "    all_correct &= torch.allclose(batch_norm(input_tensor),\n",
        "                                  custom_batch_norm1d(input_tensor, eps))\n",
        "print(all_correct)"
      ],
      "execution_count": 68,
      "outputs": [
        {
          "output_type": "stream",
          "text": [
            "True\n"
          ],
          "name": "stdout"
        }
      ]
    },
    {
      "cell_type": "code",
      "metadata": {
        "id": "o3JaSbehMR1M",
        "colab_type": "code",
        "colab": {}
      },
      "source": [
        "input_size = 7\n",
        "batch_size = 5\n",
        "input_tensor = torch.randn(batch_size, input_size, dtype=torch.float)\n",
        "\n",
        "eps = 1e-3\n",
        "batch_norm = nn.BatchNorm1d(input_size, eps=eps)\n",
        "batch_norm.bias.data = torch.randn(input_size, dtype=torch.float)\n",
        "batch_norm.weight.data = torch.randn(input_size, dtype=torch.float)"
      ],
      "execution_count": 0,
      "outputs": []
    },
    {
      "cell_type": "code",
      "metadata": {
        "id": "S2AkxkgRWloA",
        "colab_type": "code",
        "colab": {}
      },
      "source": [
        "def custom_batch_norm1d(input_tensor, weight, bias, eps):\n",
        "    mean = input_tensor.mean(dim=0)\n",
        "    var  = input_tensor.var(dim=0, unbiased=False)\n",
        "\n",
        "    normed_tensor = (input_tensor - mean) / torch.sqrt(var + eps) * weight + bias\n",
        "    return normed_tensor"
      ],
      "execution_count": 0,
      "outputs": []
    },
    {
      "cell_type": "code",
      "metadata": {
        "id": "EmGeZlV_XKK6",
        "colab_type": "code",
        "outputId": "9bdfbfd6-9578-467d-bcaf-6552fa63ca47",
        "colab": {
          "base_uri": "https://localhost:8080/",
          "height": 33
        }
      },
      "source": [
        "print(torch.allclose(batch_norm(input_tensor),\n",
        "                     custom_batch_norm1d(input_tensor, batch_norm.weight.data,\n",
        "                                         batch_norm.bias.data, eps)))"
      ],
      "execution_count": 71,
      "outputs": [
        {
          "output_type": "stream",
          "text": [
            "True\n"
          ],
          "name": "stdout"
        }
      ]
    },
    {
      "cell_type": "code",
      "metadata": {
        "id": "gpqNDtsKXb_a",
        "colab_type": "code",
        "colab": {}
      },
      "source": [
        "input_size = 3\n",
        "batch_size = 5\n",
        "eps = 1e-1"
      ],
      "execution_count": 0,
      "outputs": []
    },
    {
      "cell_type": "code",
      "metadata": {
        "id": "2HKUo95kaGUp",
        "colab_type": "code",
        "colab": {}
      },
      "source": [
        "class CustomBatchNorm1d:\n",
        "    def __init__(self, weight, bias, eps, momentum):\n",
        "        self.weight = weight\n",
        "        self.bias = bias\n",
        "        self.eps = eps\n",
        "        self.momentum = momentum\n",
        "        self.EMA_mean = 0\n",
        "        self.EMA_var  = 1\n",
        "        self.flag_train = True\n",
        "\n",
        "    def __call__(self, input_tensor):\n",
        "        if self.flag_train == True:\n",
        "            mean = input_tensor.mean(dim=0)\n",
        "            var  = input_tensor.var(dim=0, unbiased=False)\n",
        "\n",
        "            self.EMA_mean = mean * self.momentum + (1 - self.momentum) * self.EMA_mean\n",
        "            self.EMA_var  = var * self.momentum * input_tensor.shape[0] / \\\n",
        "            (input_tensor.shape[0] - 1) + (1 - self.momentum) * self.EMA_var\n",
        "\n",
        "        else:\n",
        "            mean = self.EMA_mean\n",
        "            var  = self.EMA_var\n",
        "\n",
        "        return (input_tensor - mean) / torch.sqrt(var + eps) * self.weight + self.bias\n",
        "\n",
        "    def eval(self):\n",
        "        self.flag_train = False\n",
        "        "
      ],
      "execution_count": 0,
      "outputs": []
    },
    {
      "cell_type": "code",
      "metadata": {
        "id": "x7uoH0WzePba",
        "colab_type": "code",
        "colab": {}
      },
      "source": [
        "batch_norm = nn.BatchNorm1d(input_size, eps=eps)\n",
        "batch_norm.bias.data = torch.randn(input_size, dtype=torch.float)\n",
        "batch_norm.weight.data = torch.randn(input_size, dtype=torch.float)\n",
        "batch_norm.momentum = 0.5\n",
        "\n",
        "custom_batch_norm1d = CustomBatchNorm1d(batch_norm.weight.data, \n",
        "                                        batch_norm.bias.data, eps,\n",
        "                                        batch_norm.momentum)"
      ],
      "execution_count": 0,
      "outputs": []
    },
    {
      "cell_type": "code",
      "metadata": {
        "id": "QfLua7AEexPA",
        "colab_type": "code",
        "outputId": "1e62697a-b846-4c76-fff6-55d502bad447",
        "colab": {
          "base_uri": "https://localhost:8080/",
          "height": 50
        }
      },
      "source": [
        "all_correct = True\n",
        "\n",
        "for i in range(8):\n",
        "    torch_input = torch.randn(batch_size, input_size, dtype=torch.float)\n",
        "    all_correct &= torch.allclose(batch_norm(torch_input),\n",
        "                                  custom_batch_norm1d(torch_input))\n",
        "print(all_correct)\n",
        "\n",
        "batch_norm.eval()\n",
        "custom_batch_norm1d.eval()\n",
        "\n",
        "for i in range(8):\n",
        "    torch_input = torch.randn(batch_size, input_size, dtype=torch.float)\n",
        "    all_correct &= torch.allclose(batch_norm(torch_input),\n",
        "                                  custom_batch_norm1d(torch_input))\n",
        "print(all_correct)\n"
      ],
      "execution_count": 75,
      "outputs": [
        {
          "output_type": "stream",
          "text": [
            "True\n",
            "True\n"
          ],
          "name": "stdout"
        }
      ]
    },
    {
      "cell_type": "code",
      "metadata": {
        "id": "BpVUVTJqfTUQ",
        "colab_type": "code",
        "colab": {}
      },
      "source": [
        "eps = 1e-3\n",
        "\n",
        "input_channels = 3\n",
        "batch_size = 3\n",
        "height = 10\n",
        "width = 10"
      ],
      "execution_count": 0,
      "outputs": []
    },
    {
      "cell_type": "code",
      "metadata": {
        "id": "doXFZfAGzijj",
        "colab_type": "code",
        "colab": {}
      },
      "source": [
        "batch_norm_2d = nn.BatchNorm2d(input_channels, affine=False, eps=eps)\n",
        "input_tensor = torch.randn(batch_size, input_channels, height, width, dtype=torch.float)"
      ],
      "execution_count": 0,
      "outputs": []
    },
    {
      "cell_type": "code",
      "metadata": {
        "id": "42Mcbilb5KvH",
        "colab_type": "code",
        "colab": {}
      },
      "source": [
        "def custom_batch_norm2d(input_tensor, eps):\n",
        "    mean = input_tensor.mean(dim=(0,2,3)).reshape(1,input_tensor.shape[1],1,1)\n",
        "    var  = input_tensor.var(dim=(0,2,3), unbiased=False).reshape(1,input_tensor.shape[1],1,1)\n",
        "    return (input_tensor - mean) / torch.sqrt(var + eps)"
      ],
      "execution_count": 0,
      "outputs": []
    },
    {
      "cell_type": "code",
      "metadata": {
        "id": "pjbAVFpf5_z5",
        "colab_type": "code",
        "colab": {
          "base_uri": "https://localhost:8080/",
          "height": 33
        },
        "outputId": "2ef70d4b-9abd-451f-9286-dae14c9b2ed1"
      },
      "source": [
        "print(torch.allclose(batch_norm_2d(input_tensor),\n",
        "                     custom_batch_norm2d(input_tensor, eps)))"
      ],
      "execution_count": 88,
      "outputs": [
        {
          "output_type": "stream",
          "text": [
            "True\n"
          ],
          "name": "stdout"
        }
      ]
    },
    {
      "cell_type": "code",
      "metadata": {
        "id": "gtQgJxcr190Z",
        "colab_type": "code",
        "colab": {}
      },
      "source": [
        "def custom_layer_norm(input_tensor, eps):\n",
        "    dims = list(range(len(input_tensor.size())))[1:]\n",
        "    ones = (1 for i in dims)\n",
        "    mean = input_tensor.mean(dim=dims).reshape(input_tensor.shape[0], *ones)\n",
        "    ones = (1 for i in dims)\n",
        "    var  = input_tensor.var(dim=dims, unbiased=False).reshape(input_tensor.shape[0], *ones)\n",
        "    return (input_tensor - mean) / torch.sqrt(var + eps)"
      ],
      "execution_count": 0,
      "outputs": []
    },
    {
      "cell_type": "code",
      "metadata": {
        "id": "5YAbSD0O4nMW",
        "colab_type": "code",
        "colab": {
          "base_uri": "https://localhost:8080/",
          "height": 33
        },
        "outputId": "9d05bd68-bc85-4257-e622-15447dbdcf7b"
      },
      "source": [
        "all_correct = True\n",
        "for dim_count in range(3, 9):\n",
        "    input_tensor = torch.randn(*list(range(3, dim_count + 2)), dtype=torch.float)\n",
        "    layer_norm = nn.LayerNorm(input_tensor.size()[1:],\n",
        "                              elementwise_affine=False, eps=eps)\n",
        "    all_correct &= torch.allclose(layer_norm(input_tensor),\n",
        "                                  custom_layer_norm(input_tensor, eps), 1e-2)\n",
        "print(all_correct)"
      ],
      "execution_count": 90,
      "outputs": [
        {
          "output_type": "stream",
          "text": [
            "True\n"
          ],
          "name": "stdout"
        }
      ]
    },
    {
      "cell_type": "code",
      "metadata": {
        "id": "HkMUBHiXihAL",
        "colab_type": "code",
        "colab": {}
      },
      "source": [
        "eps = 1e-3\n",
        "\n",
        "batch_size = 5\n",
        "input_channels = 2\n",
        "input_length = 30"
      ],
      "execution_count": 0,
      "outputs": []
    },
    {
      "cell_type": "code",
      "metadata": {
        "id": "I8Xvl4bjjzN8",
        "colab_type": "code",
        "colab": {
          "base_uri": "https://localhost:8080/",
          "height": 33
        },
        "outputId": "27b83ebc-9d28-4772-a26b-0e5b1313a78e"
      },
      "source": [
        "instance_norm = nn.InstanceNorm1d(input_channels, affine=False, eps=eps)\n",
        "input_tensor = torch.randn(batch_size, input_channels, input_length, dtype=torch.float)"
      ],
      "execution_count": 92,
      "outputs": [
        {
          "output_type": "stream",
          "text": [
            "ERROR! Session/line number was not unique in database. History logging moved to new session 59\n"
          ],
          "name": "stdout"
        }
      ]
    },
    {
      "cell_type": "code",
      "metadata": {
        "id": "qb169wkmmxAL",
        "colab_type": "code",
        "colab": {}
      },
      "source": [
        "def custom_instance_norm1d(input_tensor, eps):\n",
        "    mean = input_tensor.mean(dim=2).reshape(*input_tensor.shape[:2], 1)\n",
        "    var  = input_tensor.var(dim=2, unbiased=False).reshape(*input_tensor.shape[:2], 1)\n",
        "    return (input_tensor - mean) / torch.sqrt(var + eps)"
      ],
      "execution_count": 0,
      "outputs": []
    },
    {
      "cell_type": "code",
      "metadata": {
        "id": "mSPZY0kenYHU",
        "colab_type": "code",
        "colab": {
          "base_uri": "https://localhost:8080/",
          "height": 33
        },
        "outputId": "0ec0ae4c-b050-49b5-d051-8860cfd9b373"
      },
      "source": [
        "print(torch.allclose(instance_norm(input_tensor),\n",
        "                     custom_instance_norm1d(input_tensor, eps)))"
      ],
      "execution_count": 106,
      "outputs": [
        {
          "output_type": "stream",
          "text": [
            "True\n"
          ],
          "name": "stdout"
        }
      ]
    },
    {
      "cell_type": "code",
      "metadata": {
        "id": "phyEMUFap-5z",
        "colab_type": "code",
        "colab": {}
      },
      "source": [
        "channel_count = 6\n",
        "eps = 1e-3\n",
        "batch_size = 20\n",
        "input_size = 2"
      ],
      "execution_count": 0,
      "outputs": []
    },
    {
      "cell_type": "code",
      "metadata": {
        "id": "31SBBOJ1qHQa",
        "colab_type": "code",
        "colab": {}
      },
      "source": [
        "input_tensor = torch.randn(batch_size, channel_count, input_size)"
      ],
      "execution_count": 0,
      "outputs": []
    },
    {
      "cell_type": "code",
      "metadata": {
        "id": "uZA9pLamvAPQ",
        "colab_type": "code",
        "colab": {}
      },
      "source": [
        "def custom_group_norm(input_tensor, groups, eps):\n",
        "    grouped_shape = (input_tensor.shape[0], groups, -1)\n",
        "    grouped = input_tensor.reshape(*grouped_shape)\n",
        "    mean = grouped.mean(dim=2).reshape(*grouped_shape)\n",
        "    var = grouped.var(dim=2, unbiased=False).reshape(*grouped_shape)\n",
        "    return ((grouped - mean) / torch.sqrt(var + eps)).reshape(*input_tensor.shape)"
      ],
      "execution_count": 0,
      "outputs": []
    },
    {
      "cell_type": "code",
      "metadata": {
        "id": "eaZ9O4SSraKV",
        "colab_type": "code",
        "colab": {
          "base_uri": "https://localhost:8080/",
          "height": 33
        },
        "outputId": "1ac450ce-bd01-411a-bd14-d6ee700d6a6e"
      },
      "source": [
        "all_correct = True \n",
        "for groups in [2, 3, 6]:\n",
        "    group_norm = nn.GroupNorm(groups, channel_count, eps=eps, affine=False)\n",
        "    all_correct &= torch.allclose(group_norm(input_tensor),\n",
        "                                  custom_group_norm(input_tensor, groups, eps), 1e-3)\n",
        "print(all_correct)"
      ],
      "execution_count": 147,
      "outputs": [
        {
          "output_type": "stream",
          "text": [
            "True\n"
          ],
          "name": "stdout"
        }
      ]
    }
  ]
}