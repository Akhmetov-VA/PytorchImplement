{
  "nbformat": 4,
  "nbformat_minor": 0,
  "metadata": {
    "colab": {
      "name": "ConvImplementation.ipynb",
      "provenance": [],
      "collapsed_sections": []
    },
    "kernelspec": {
      "name": "python3",
      "display_name": "Python 3"
    }
  },
  "cells": [
    {
      "cell_type": "code",
      "metadata": {
        "id": "iabYXJneQtaI",
        "colab_type": "code",
        "colab": {}
      },
      "source": [
        "import torch\n",
        "\n",
        "# Создаем входной массив из двух изображений RGB 3*3\n",
        "input_images = torch.tensor(\n",
        "      [[[[0,  1,  2],\n",
        "         [3,  4,  5],\n",
        "         [6,  7,  8]],\n",
        "\n",
        "        [[9, 10, 11],\n",
        "         [12, 13, 14],\n",
        "         [15, 16, 17]],\n",
        "\n",
        "        [[18, 19, 20],\n",
        "         [21, 22, 23],\n",
        "         [24, 25, 26]]],\n",
        "\n",
        "\n",
        "       [[[27, 28, 29],\n",
        "         [30, 31, 32],\n",
        "         [33, 34, 35]],\n",
        "\n",
        "        [[36, 37, 38],\n",
        "         [39, 40, 41],\n",
        "         [42, 43, 44]],\n",
        "\n",
        "        [[45, 46, 47],\n",
        "         [48, 49, 50],\n",
        "         [51, 52, 53]]]])\n",
        "\n",
        "\n",
        "correct_padded_images = torch.tensor(\n",
        "       [[[[0.,  0.,  0.,  0.,  0.],\n",
        "          [0.,  0.,  1.,  2.,  0.],\n",
        "          [0.,  3.,  4.,  5.,  0.],\n",
        "          [0.,  6.,  7.,  8.,  0.],\n",
        "          [0.,  0.,  0.,  0.,  0.]],\n",
        "\n",
        "         [[0.,  0.,  0.,  0.,  0.],\n",
        "          [0.,  9., 10., 11.,  0.],\n",
        "          [0., 12., 13., 14.,  0.],\n",
        "          [0., 15., 16., 17.,  0.],\n",
        "          [0.,  0.,  0.,  0.,  0.]],\n",
        "\n",
        "         [[0.,  0.,  0.,  0.,  0.],\n",
        "          [0., 18., 19., 20.,  0.],\n",
        "          [0., 21., 22., 23.,  0.],\n",
        "          [0., 24., 25., 26.,  0.],\n",
        "          [0.,  0.,  0.,  0.,  0.]]],\n",
        "\n",
        "\n",
        "        [[[0.,  0.,  0.,  0.,  0.],\n",
        "          [0., 27., 28., 29.,  0.],\n",
        "          [0., 30., 31., 32.,  0.],\n",
        "          [0., 33., 34., 35.,  0.],\n",
        "          [0.,  0.,  0.,  0.,  0.]],\n",
        "\n",
        "         [[0.,  0.,  0.,  0.,  0.],\n",
        "          [0., 36., 37., 38.,  0.],\n",
        "          [0., 39., 40., 41.,  0.],\n",
        "          [0., 42., 43., 44.,  0.],\n",
        "          [0.,  0.,  0.,  0.,  0.]],\n",
        "\n",
        "         [[0.,  0.,  0.,  0.,  0.],\n",
        "          [0., 45., 46., 47.,  0.],\n",
        "          [0., 48., 49., 50.,  0.],\n",
        "          [0., 51., 52., 53.,  0.],\n",
        "          [0.,  0.,  0.,  0.,  0.]]]])\n",
        "\n"
      ],
      "execution_count": 0,
      "outputs": []
    },
    {
      "cell_type": "code",
      "metadata": {
        "id": "nqHtRcxYQ5Xk",
        "colab_type": "code",
        "colab": {}
      },
      "source": [
        "def get_padding2d(input_images):\n",
        "    shape = input_images.shape\n",
        "    zeros_shape = (shape[0], shape[1], shape[2]+2, shape[2]+2)\n",
        "    padded_images = torch.zeros(*zeros_shape)\n",
        "    padded_images[:,:,1:-1,1:-1] = input_images\n",
        "    padded_images\n",
        "    return padded_images"
      ],
      "execution_count": 0,
      "outputs": []
    },
    {
      "cell_type": "code",
      "metadata": {
        "id": "5tqnUqxURC6p",
        "colab_type": "code",
        "outputId": "13a4a17b-0ea7-406f-8da5-2031e61d8590",
        "colab": {
          "base_uri": "https://localhost:8080/",
          "height": 33
        }
      },
      "source": [
        "# Проверка происходит автоматически вызовом следующего кода\n",
        "# (раскомментируйте для самостоятельной проверки,\n",
        "#  в коде для сдачи задания должно быть закомментировано):\n",
        "print(torch.allclose(get_padding2d(input_images), correct_padded_images))"
      ],
      "execution_count": 3,
      "outputs": [
        {
          "output_type": "stream",
          "text": [
            "True\n"
          ],
          "name": "stdout"
        }
      ]
    },
    {
      "cell_type": "code",
      "metadata": {
        "id": "KOlkMvfj3uFJ",
        "colab_type": "code",
        "outputId": "250b7b15-1680-47e6-8ec8-f976f72a6b63",
        "colab": {
          "base_uri": "https://localhost:8080/",
          "height": 33
        }
      },
      "source": [
        "import numpy as np\n",
        "\n",
        "\n",
        "def calc_out_shape(input_matrix_shape, out_channels, kernel_size, stride, padding):\n",
        "    out_shape = (input_matrix_shape[0], \n",
        "                 out_channels,\n",
        "                 (input_matrix_shape[2] - (kernel_size - 1) + 2 * padding) // stride,\n",
        "                 (input_matrix_shape[3] - (kernel_size - 1) + 2 * padding) // stride)\n",
        "\n",
        "    return out_shape\n",
        "\n",
        "def calc_out_shape(input_matrix_shape, out_channels, kernel_size, stride, padding):\n",
        "    batch_size, channels_count, input_height, input_width = input_matrix_shape\n",
        "    output_height = (input_height + 2 * padding - (kernel_size - 1) - 1) // stride + 1\n",
        "    output_width = (input_width + 2 * padding - (kernel_size - 1) - 1) // stride + 1\n",
        "\n",
        "    return batch_size, out_channels, output_height, output_width\n",
        "\n",
        "print(np.array_equal(\n",
        "    calc_out_shape(input_matrix_shape=[2, 3, 10, 10],\n",
        "                   out_channels=10,\n",
        "                   kernel_size=3,\n",
        "                   stride=1,\n",
        "                   padding=0),\n",
        "    [2, 10, 8, 8]))"
      ],
      "execution_count": 4,
      "outputs": [
        {
          "output_type": "stream",
          "text": [
            "True\n"
          ],
          "name": "stdout"
        }
      ]
    },
    {
      "cell_type": "code",
      "metadata": {
        "id": "sMi6F_vF857G",
        "colab_type": "code",
        "colab": {}
      },
      "source": [
        "from abc import ABC, abstractmethod\n",
        "\n",
        "class ABCConv2d(ABC):\n",
        "  def __init__(self, in_channels, out_channels, kernel_size, stride):\n",
        "    self.in_channels = in_channels\n",
        "    self.out_channels = out_channels\n",
        "    self.kernel_size = kernel_size\n",
        "    self.stride = stride\n",
        "\n",
        "  def set_kernel(self, kernel):\n",
        "    self.kernel = kernel\n",
        "\n",
        "  @abstractmethod\n",
        "  def __call__(self, input_tensor):\n",
        "    pass"
      ],
      "execution_count": 0,
      "outputs": []
    },
    {
      "cell_type": "code",
      "metadata": {
        "id": "V0NXPk0iJhZ7",
        "colab_type": "code",
        "colab": {}
      },
      "source": [
        "class Conv2d(ABCConv2d):\n",
        "  def __init__(self, in_channels, out_channels, kernel_size, stride):\n",
        "    self.conv2d = torch.nn.Conv2d(in_channels, out_channels, kernel_size,\n",
        "                                  stride, padding=0, bias=0)\n",
        "    \n",
        "  def set_kernel(self, kernel):\n",
        "    self.conv2d.weight.data = kernel\n",
        "\n",
        "  def __call__(self, input_tensor):\n",
        "    return self.conv2d(input_tensor)"
      ],
      "execution_count": 0,
      "outputs": []
    },
    {
      "cell_type": "code",
      "metadata": {
        "id": "lhA87X3fPPsf",
        "colab_type": "code",
        "colab": {}
      },
      "source": [
        "def create_and_call_conv2d_layer(conv2d_layer_class, stride, kernel, input_matrix):\n",
        "  out_channels = kernel.shape[0]\n",
        "  in_channels = kernel.shape[1]\n",
        "  kernel_size= kernel.shape[2]\n",
        "\n",
        "  layer = conv2d_layer_class(in_channels, out_channels, kernel_size, stride)\n",
        "  layer.set_kernel(kernel)\n",
        "\n",
        "  return layer(input_matrix)"
      ],
      "execution_count": 0,
      "outputs": []
    },
    {
      "cell_type": "code",
      "metadata": {
        "id": "-iAUuS6YF2U0",
        "colab_type": "code",
        "colab": {}
      },
      "source": [
        "def test_conv2d_layer(conv2d_layer_class, batch_size=2, \n",
        "                      input_height=4, input_width=4, stride=2):\n",
        "  kernel = torch.tensor(\n",
        "                      [[[[0., 1, 0],\n",
        "                         [1,  2, 1],\n",
        "                         [0,  1, 0]],\n",
        "\n",
        "                        [[1, 2, 1],\n",
        "                         [0, 3, 3],\n",
        "                         [0, 1, 10]],\n",
        "\n",
        "                        [[10, 11, 12],\n",
        "                         [13, 14, 15],\n",
        "                         [16, 17, 18]]]])\n",
        "  \n",
        "  in_channels = kernel.shape[1]\n",
        "\n",
        "  input_tensor = torch.arange(0, \n",
        "                              batch_size * in_channels * input_height * input_width,\n",
        "                              out=torch.FloatTensor()).reshape(batch_size, \n",
        "                                                               in_channels, \n",
        "                                                               input_height, \n",
        "                                                               input_width)\n",
        "                              \n",
        "  custom_conv2d_out = create_and_call_conv2d_layer(conv2d_layer_class,\n",
        "                                                   stride, kernel, \n",
        "                                                   input_tensor)\n",
        "  conv2d_out = create_and_call_conv2d_layer(Conv2d, stride, \n",
        "                                            kernel, input_tensor)\n",
        "  \n",
        "  return torch.allclose(custom_conv2d_out, conv2d_out)"
      ],
      "execution_count": 0,
      "outputs": []
    },
    {
      "cell_type": "code",
      "metadata": {
        "id": "OU9uY4HKlAeb",
        "colab_type": "code",
        "outputId": "352a3f63-7427-44e1-e273-4cad750151fe",
        "colab": {
          "base_uri": "https://localhost:8080/",
          "height": 33
        }
      },
      "source": [
        "print(test_conv2d_layer(Conv2d))"
      ],
      "execution_count": 9,
      "outputs": [
        {
          "output_type": "stream",
          "text": [
            "True\n"
          ],
          "name": "stdout"
        }
      ]
    },
    {
      "cell_type": "code",
      "metadata": {
        "id": "XkIoaDUHdupl",
        "colab_type": "code",
        "colab": {}
      },
      "source": [
        "class Conv2dLoop(ABCConv2d):\n",
        "\n",
        "    def __call__(self, input_tensor):\n",
        "        out_shape = calc_out_shape(input_tensor.shape, self.out_channels,\n",
        "                                   self.kernel_size, self.stride, 0)\n",
        "        output_tensor = torch.zeros(out_shape)\n",
        "\n",
        "        for b in range(input_tensor.shape[0]):\n",
        "            for n_filter in range(self.out_channels):\n",
        "                for i in range((input_tensor.shape[2] - self.kernel.shape[1]) // self.stride + 1):\n",
        "                    for j in range((input_tensor.shape[3] - self.kernel.shape[2]) // self.stride + 1):\n",
        "                        output_tensor[b][n_filter][i][j] = (input_tensor[b, : ,\n",
        "                                                                         i*self.stride: i*self.stride+self.kernel.shape[2], \n",
        "                                                                         j*self.stride: j*self.stride+self.kernel.shape[3]] \n",
        "                                                            * self.kernel).sum()\n",
        "        return output_tensor"
      ],
      "execution_count": 0,
      "outputs": []
    },
    {
      "cell_type": "code",
      "metadata": {
        "id": "WPLftnrudDpf",
        "colab_type": "code",
        "outputId": "1d2bfd63-e69b-4acd-9f8e-3f6732a9d35f",
        "colab": {
          "base_uri": "https://localhost:8080/",
          "height": 33
        }
      },
      "source": [
        "print(test_conv2d_layer(Conv2dLoop))"
      ],
      "execution_count": 11,
      "outputs": [
        {
          "output_type": "stream",
          "text": [
            "True\n"
          ],
          "name": "stdout"
        }
      ]
    },
    {
      "cell_type": "code",
      "metadata": {
        "id": "pmFEtcjeawf6",
        "colab_type": "code",
        "colab": {}
      },
      "source": [
        "class Conv2dMatrix(ABCConv2d):\n",
        "  \n",
        "    def _unsqueeze_kernel(self, torch_input, output_height, output_width):\n",
        "        kernel_unsqueezed = torch.zeros((output_height * output_width, \n",
        "                                        torch_input.shape[1] * \\\n",
        "                                        torch_input.shape[2] * \\\n",
        "                                        torch_input.shape[3]))\n",
        "\n",
        "        k = 0\n",
        "        for i in range(output_height // self.stride + 1):\n",
        "            for j in range(output_width // self.stride + 1):\n",
        "                out = torch.zeros(torch_input[0].shape)\n",
        "                out[:,\n",
        "                    i*self.stride: i*self.stride+self.kernel[0][0].shape[0],\n",
        "                    j*self.stride: j*self.stride+self.kernel[0][0].shape[1]] = self.kernel[0]\n",
        "                kernel_unsqueezed[k] = out.view(-1)\n",
        "                k += 1\n",
        "\n",
        "        return kernel_unsqueezed\n",
        "\n",
        "    def __call__(self, torch_input):\n",
        "        batch_size, out_channels, output_height, output_width\\\n",
        "              = calc_out_shape(\n",
        "                  input_matrix_shape=torch_input.shape,\n",
        "                  out_channels=self.kernel.shape[0],\n",
        "                  kernel_size=self.kernel.shape[2],\n",
        "                  stride=self.stride,\n",
        "                  padding=0)\n",
        "              \n",
        "        kernel_unsqueezed = self._unsqueeze_kernel(torch_input,\n",
        "                                                    output_height, output_width)\n",
        "        result = kernel_unsqueezed @ torch_input.view((batch_size, -1)).permute(1, 0)\n",
        "\n",
        "        return result.permute(1, 0).view((batch_size, self.out_channels,\n",
        "                                            output_height, output_width))"
      ],
      "execution_count": 0,
      "outputs": []
    },
    {
      "cell_type": "code",
      "metadata": {
        "id": "MYYgCVwy7N03",
        "colab_type": "code",
        "outputId": "a2c1846b-3b85-46e0-9dd8-7061b3995162",
        "colab": {
          "base_uri": "https://localhost:8080/",
          "height": 33
        }
      },
      "source": [
        "print(test_conv2d_layer(Conv2dMatrix))"
      ],
      "execution_count": 13,
      "outputs": [
        {
          "output_type": "stream",
          "text": [
            "True\n"
          ],
          "name": "stdout"
        }
      ]
    },
    {
      "cell_type": "code",
      "metadata": {
        "id": "G-wESY8Q3Htx",
        "colab_type": "code",
        "colab": {}
      },
      "source": [
        "class Conv2dMatrixV2(ABCConv2d):\n",
        "\n",
        "    def _convert_kernel(self):\n",
        "        converted_kernel = self.kernel.view(self.out_channels, -1)\n",
        "\n",
        "        return converted_kernel\n",
        "\n",
        "    def _convert_input(self, torch_input, output_height, output_width):\n",
        "        converted_input = torch.zeros(torch_input.shape[0], \n",
        "                          output_height*output_width,\n",
        "                          self.in_channels*self.kernel.shape[2]*self.kernel.shape[3])\n",
        "\n",
        "        for b in range(torch_input.shape[0]):\n",
        "            k = 0\n",
        "            for i in range(output_height // self.stride + 1):\n",
        "                slice_i = slice(i*self.stride, i*self.stride+self.kernel.shape[2])\n",
        "\n",
        "                for j in range(output_width // self.stride + 1):\n",
        "                    slice_j = slice(j*self.stride, j*self.stride+self.kernel.shape[3])\n",
        "\n",
        "                    converted_input[b, k] = torch_input[b, :, slice_i, slice_j].reshape(-1)\n",
        "                    k += 1\n",
        "\n",
        "        return converted_input\n",
        "\n",
        "    def __call__(self, torch_input):\n",
        "        batch_size, out_channels, output_height, output_width \\\n",
        "        = calc_out_shape(\n",
        "            input_matrix_shape=torch_input.shape,\n",
        "            out_channels=self.kernel.shape[0],\n",
        "            kernel_size=self.kernel.shape[2],\n",
        "            stride=self.stride,\n",
        "            padding=0\n",
        "        )\n",
        "\n",
        "        converted_kernel = self._convert_kernel()\n",
        "        converted_input = self._convert_input(torch_input, output_height, output_width)\n",
        "        conv2d_out_alternative_matrix_v2 = converted_input.reshape(batch_size, -1) @ converted_kernel.permute(1,0)\n",
        "\n",
        "        return conv2d_out_alternative_matrix_v2.view(torch_input.shape[0], self.out_channels, \n",
        "                                                     output_height, output_width)"
      ],
      "execution_count": 0,
      "outputs": []
    },
    {
      "cell_type": "code",
      "metadata": {
        "id": "zwXN_LB885AH",
        "colab_type": "code",
        "colab": {
          "base_uri": "https://localhost:8080/",
          "height": 33
        },
        "outputId": "766c5872-b5f9-44b6-cf36-476cc61869f1"
      },
      "source": [
        "print(test_conv2d_layer(Conv2dMatrixV2))"
      ],
      "execution_count": 24,
      "outputs": [
        {
          "output_type": "stream",
          "text": [
            "True\n"
          ],
          "name": "stdout"
        }
      ]
    }
  ]
}